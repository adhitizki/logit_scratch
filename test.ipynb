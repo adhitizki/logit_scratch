{
 "cells": [
  {
   "cell_type": "markdown",
   "metadata": {},
   "source": [
    "## Import Library"
   ]
  },
  {
   "cell_type": "code",
   "execution_count": 1,
   "metadata": {},
   "outputs": [],
   "source": [
    "import numpy as np\n",
    "from ml_from_scratch.linear_model import LogisticRegression\n",
    "\n",
    "from sklearn.model_selection import train_test_split\n",
    "from sklearn import datasets\n",
    "from sklearn.metrics import  classification_report\n",
    "\n",
    "from itertools import product"
   ]
  },
  {
   "cell_type": "markdown",
   "metadata": {},
   "source": [
    "## Load Data"
   ]
  },
  {
   "cell_type": "code",
   "execution_count": 2,
   "metadata": {},
   "outputs": [],
   "source": [
    "dataset = datasets.load_breast_cancer()\n",
    "X, y = dataset.data, dataset.target\n",
    "\n",
    "X, y = dataset.data, dataset.target \n",
    "X_train, X_test, y_train, y_test = train_test_split(\n",
    "    X, y, test_size=0.2, random_state=42\n",
    ")"
   ]
  },
  {
   "cell_type": "markdown",
   "metadata": {},
   "source": [
    "## Modelling"
   ]
  },
  {
   "cell_type": "code",
   "execution_count": 3,
   "metadata": {},
   "outputs": [
    {
     "name": "stderr",
     "output_type": "stream",
     "text": [
      "/home/adhitizki/playground/pacmann/pacmann_ml_adv/ml_from_scratch/linear_model/_logistic.py:12: RuntimeWarning: overflow encountered in exp\n",
      "  return 1 / (1 + np.exp(-z))\n"
     ]
    }
   ],
   "source": [
    "clf = LogisticRegression()\n",
    "clf.fit(X_train, y_train)\n",
    "y_pred = clf.predict(X_test)"
   ]
  },
  {
   "cell_type": "code",
   "execution_count": 4,
   "metadata": {},
   "outputs": [
    {
     "name": "stdout",
     "output_type": "stream",
     "text": [
      "              precision    recall  f1-score   support\n",
      "\n",
      "           0       0.88      1.00      0.93        43\n",
      "           1       1.00      0.92      0.96        71\n",
      "\n",
      "    accuracy                           0.95       114\n",
      "   macro avg       0.94      0.96      0.95       114\n",
      "weighted avg       0.95      0.95      0.95       114\n",
      "\n"
     ]
    }
   ],
   "source": [
    "print(classification_report(y_test, y_pred))"
   ]
  },
  {
   "cell_type": "code",
   "execution_count": 5,
   "metadata": {},
   "outputs": [
    {
     "data": {
      "text/plain": [
       "3.050577341872551"
      ]
     },
     "execution_count": 5,
     "metadata": {},
     "output_type": "execute_result"
    }
   ],
   "source": [
    "clf.loss"
   ]
  },
  {
   "cell_type": "markdown",
   "metadata": {},
   "source": [
    "## Hyperparameter"
   ]
  },
  {
   "cell_type": "code",
   "execution_count": 6,
   "metadata": {},
   "outputs": [
    {
     "name": "stdout",
     "output_type": "stream",
     "text": [
      "parameter : learning rate 0.0001, num iterations 250 | log loss 0.586515749755615\n",
      "parameter : learning rate 0.0001, num iterations 500 | log loss 0.4467435135411476\n",
      "parameter : learning rate 0.0001, num iterations 1000 | log loss 4.473646457691497\n",
      "parameter : learning rate 0.0001, num iterations 2000 | log loss 0.3666223689155307\n",
      "parameter : learning rate 0.001, num iterations 250 | log loss 3.2003086500086804\n",
      "parameter : learning rate 0.001, num iterations 500 | log loss 2.5708342499791716\n"
     ]
    },
    {
     "name": "stderr",
     "output_type": "stream",
     "text": [
      "/home/adhitizki/playground/pacmann/pacmann_ml_adv/ml_from_scratch/linear_model/_logistic.py:12: RuntimeWarning: overflow encountered in exp\n",
      "  return 1 / (1 + np.exp(-z))\n"
     ]
    },
    {
     "name": "stdout",
     "output_type": "stream",
     "text": [
      "parameter : learning rate 0.001, num iterations 1000 | log loss 2.467164768247537\n",
      "parameter : learning rate 0.001, num iterations 2000 | log loss 14.792963986284569\n",
      "parameter : learning rate 0.01, num iterations 250 | log loss 3.5762055431276685\n",
      "parameter : learning rate 0.01, num iterations 500 | log loss 2.9285346589935153\n",
      "parameter : learning rate 0.01, num iterations 1000 | log loss 3.050577341872551\n",
      "parameter : learning rate 0.01, num iterations 2000 | log loss 5.0343602468666\n",
      "parameter : learning rate 0.1, num iterations 250 | log loss 3.640142928403272\n",
      "parameter : learning rate 0.1, num iterations 500 | log loss 3.1882421927843168\n",
      "parameter : learning rate 0.1, num iterations 1000 | log loss 3.036426910158029\n",
      "parameter : learning rate 0.1, num iterations 2000 | log loss 20.19190004625548\n"
     ]
    }
   ],
   "source": [
    "learning_rate = [1e-4, 1e-3, 1e-2, 1e-1]\n",
    "iteration = [250, 500, 1000, 2000]\n",
    "\n",
    "clf_best_loss = np.inf\n",
    "clf_best = None\n",
    "\n",
    "for lr, itr in product(learning_rate, iteration):\n",
    "    temp_clf = LogisticRegression(lr, itr)\n",
    "    temp_clf.fit(X_train, y_train)\n",
    "\n",
    "    if clf_best_loss > temp_clf.loss:\n",
    "        clf_best_loss = temp_clf.loss\n",
    "        clf_best = temp_clf\n",
    "\n",
    "    print(f'parameter : learning rate {lr}, num iterations {itr} | log loss {temp_clf.loss}')"
   ]
  },
  {
   "cell_type": "code",
   "execution_count": 7,
   "metadata": {},
   "outputs": [
    {
     "data": {
      "text/plain": [
       "{'learning_rate': 0.0001,\n",
       " 'num_iterations': 2000,\n",
       " 'weights': array([ 3.61520767e-02,  2.43831549e-02,  1.97884105e-01,  5.09152413e-02,\n",
       "         2.47095463e-04, -5.22576313e-04, -1.15256682e-03, -4.65742016e-04,\n",
       "         4.71895558e-04,  2.24883228e-04,  2.21954405e-05,  1.96612063e-03,\n",
       "        -3.25003399e-03, -1.03660149e-01,  4.12003352e-06, -1.43439957e-04,\n",
       "        -2.14400312e-04, -4.19227876e-05,  1.98132935e-05, -4.39156928e-06,\n",
       "         3.85773147e-02,  2.44031176e-02,  1.91524304e-01, -8.70708180e-02,\n",
       "         2.52511892e-04, -1.91480780e-03, -2.91158031e-03, -6.93361133e-04,\n",
       "         4.03888899e-04,  1.15825798e-04]),\n",
       " 'bias': 0.004793749410828046,\n",
       " 'loss': 0.3666223689155307}"
      ]
     },
     "execution_count": 7,
     "metadata": {},
     "output_type": "execute_result"
    }
   ],
   "source": [
    "clf_best.__dict__"
   ]
  },
  {
   "cell_type": "code",
   "execution_count": 8,
   "metadata": {},
   "outputs": [
    {
     "name": "stdout",
     "output_type": "stream",
     "text": [
      "              precision    recall  f1-score   support\n",
      "\n",
      "           0       0.88      1.00      0.93        43\n",
      "           1       1.00      0.92      0.96        71\n",
      "\n",
      "    accuracy                           0.95       114\n",
      "   macro avg       0.94      0.96      0.95       114\n",
      "weighted avg       0.95      0.95      0.95       114\n",
      "\n"
     ]
    }
   ],
   "source": [
    "y_pred = clf.predict(X_test)\n",
    "print(classification_report(y_test, y_pred))"
   ]
  },
  {
   "cell_type": "code",
   "execution_count": null,
   "metadata": {},
   "outputs": [],
   "source": []
  }
 ],
 "metadata": {
  "kernelspec": {
   "display_name": "Python 3",
   "language": "python",
   "name": "python3"
  },
  "language_info": {
   "codemirror_mode": {
    "name": "ipython",
    "version": 3
   },
   "file_extension": ".py",
   "mimetype": "text/x-python",
   "name": "python",
   "nbconvert_exporter": "python",
   "pygments_lexer": "ipython3",
   "version": "3.9.0"
  }
 },
 "nbformat": 4,
 "nbformat_minor": 2
}
